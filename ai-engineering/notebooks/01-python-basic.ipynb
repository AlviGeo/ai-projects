{
 "cells": [
  {
   "cell_type": "markdown",
   "id": "538dc854",
   "metadata": {},
   "source": [
    "Generator Biodata"
   ]
  },
  {
   "cell_type": "code",
   "execution_count": null,
   "id": "d5a10fca",
   "metadata": {
    "vscode": {
     "languageId": "plaintext"
    }
   },
   "outputs": [],
   "source": [
    "# @title #### 01. Generator Biodata\n",
    "%pip install rggrader\n",
    "from rggrader import submit\n",
    "\n",
    "# Variabel yang diberikan\n",
    "nama = \"John Doe\"\n",
    "usia = 25\n",
    "tinggi = 170.5\n",
    "status = \"Aktif\"\n",
    "\n",
    "# TODO:\n",
    "# Buat biodata terformat menggunakan f-string\n",
    "# Format output harus sesuai dengan contoh\n",
    "# Simpan hasilnya dalam variabel 'biodata'\n",
    "\n",
    "# Output setelah di-print akan terlihat seperti ini:\n",
    "# BIODATA LENGKAP\n",
    "# Nama    : John Doe\n",
    "# Usia    : 25 tahun\n",
    "# Tinggi  : 170.5 cm\n",
    "# Status  : Aktif\n",
    "\n",
    "# Tulis kode kamu di sini:\n",
    "biodata = f\"\"\"BIODATA LENGKAP\n",
    "Nama    : {nama}\n",
    "Usia    : {usia} tahun\n",
    "Tinggi  : {tinggi} cm\n",
    "Status  : {status}\"\"\"\n",
    "\n",
    "print(biodata)\n",
    "# ---- Akhir dari kode kamu ----\n",
    "\n",
    "# Submit Method\n",
    "assignment_id = \"01_python-basics\"\n",
    "question_id = \"01_biodata-generator\"\n",
    "submit(student_id, name, assignment_id, biodata, question_id)"
   ]
  },
  {
   "cell_type": "markdown",
   "id": "a2527404",
   "metadata": {},
   "source": [
    "Kalkulator String"
   ]
  },
  {
   "cell_type": "code",
   "execution_count": null,
   "id": "5a31ce6b",
   "metadata": {
    "vscode": {
     "languageId": "plaintext"
    }
   },
   "outputs": [],
   "source": [
    "# @title #### 02. Kalkulator String\n",
    "from rggrader import submit\n",
    "\n",
    "# Variabel yang diberikan\n",
    "num1 = 10\n",
    "num2 = 5\n",
    "\n",
    "# TODO:\n",
    "# Buat kalimat yang menjelaskan operasi penjumlahan\n",
    "# Gunakan f-string untuk membuat kalimat yang menjelaskan operasi penjumlahan\n",
    "# dari num1 dan num2, lalu simpan hasilnya dalam variabel 'explanation'\n",
    "#\n",
    "# Expected Output:\n",
    "# explanation = \"Hasil dari 10 tambah 5 adalah 15\"\n",
    "#\n",
    "# Perhatikan:\n",
    "# - Spasi dan tanda baca harus sama persis!\n",
    "# - Format kalimat harus sesuai: \"Hasil dari {num1} tambah {num2} adalah {hasil}\"\n",
    "\n",
    "# Tulis kode kamu di sini:\n",
    "explanation = f\"Hasil dari {num1} tambah {num2} adalah {num1+num2}\"\n",
    "print(explanation)\n",
    "#\n",
    "\n",
    "# ---- Akhir dari kode kamu ----\n",
    "\n",
    "# Submit Method\n",
    "assignment_id = \"01_python-basics\"\n",
    "question_id = \"02_string-calculator\"\n",
    "submit(student_id, name, assignment_id, explanation, question_id)"
   ]
  }
 ],
 "metadata": {
  "language_info": {
   "name": "python"
  }
 },
 "nbformat": 4,
 "nbformat_minor": 5
}
