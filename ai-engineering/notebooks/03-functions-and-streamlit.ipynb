{
 "cells": [
  {
   "cell_type": "code",
   "execution_count": null,
   "id": "7f0a88f2",
   "metadata": {
    "vscode": {
     "languageId": "plaintext"
    }
   },
   "outputs": [],
   "source": [
    "%pip install rggrader\n",
    "\n",
    "from rggrader import submit\n",
    "\n",
    "# @title #### Student Identity\n",
    "student_id = \"\"  # @param {type:\"string\"}\n",
    "name = \"\"  # @param {type:\"string\"}"
   ]
  },
  {
   "cell_type": "markdown",
   "id": "768cb09d",
   "metadata": {},
   "source": [
    "Tantangan 1 - Circle Area Function"
   ]
  },
  {
   "cell_type": "code",
   "execution_count": null,
   "id": "7c8c9f9d",
   "metadata": {
    "vscode": {
     "languageId": "plaintext"
    }
   },
   "outputs": [],
   "source": [
    "# @title #### 00. Circle Area Function\n",
    "from rggrader import submit\n",
    "import math\n",
    "\n",
    "rad = 5\n",
    "\n",
    "# TODO: Define a function 'calculate_area' that takes a radius as a parameter and returns the area of a circle with that radius.\n",
    "def calculate_circle_area(radius):\n",
    "  area = math.pi * (radius ** 2)\n",
    "  return area\n",
    "\n",
    "print(f\"The area of the circle with radius {rad} is {calculate_circle_area(rad)}\")\n",
    "\n",
    "# Submit Method\n",
    "assignment_id = \"03_functions-streamlit\"\n",
    "question_id = \"01_circle-area-function\"\n",
    "submit(student_id, name, assignment_id, str(calculate_circle_area(rad)), question_id)\n",
    "\n",
    "# Expected Output for rad=5: 78.53981633974483"
   ]
  },
  {
   "cell_type": "markdown",
   "id": "2f6dbc29",
   "metadata": {},
   "source": [
    "Tantangan 2 - Pengecek Ganjil atau Genap"
   ]
  },
  {
   "cell_type": "code",
   "execution_count": null,
   "id": "8857e3d3",
   "metadata": {
    "vscode": {
     "languageId": "plaintext"
    }
   },
   "outputs": [],
   "source": [
    "from rggrader import submit\n",
    "\n",
    "num = 37\n",
    "\n",
    "# TODO: Buatlah sebuah fungsi bernama 'check_odd_even' yang menerima satu parameter berupa bilangan bulat.\n",
    "# Fungsi harus mengembalikan string \"Genap\" jika angka tersebut genap, dan \"Ganjil\" jika angka tersebut ganjil.\n",
    "\n",
    "def check_odd_even(number):\n",
    "  return number % 2 == 0 and \"Genap\" or \"Ganjil\"\n",
    "\n",
    "print(f\"Angka {num} adalah {check_odd_even(num)}\")\n",
    "\n",
    "# Submit Method\n",
    "assignment_id = \"03_functions-streamlit\"\n",
    "question_id = \"02_odd-even-checker\"\n",
    "submit(student_id, name, assignment_id, str(check_odd_even(num)), question_id)\n",
    "\n",
    "# Expected Output jika num = 37:\n",
    "# Angka 37 adalah Ganjil\n"
   ]
  },
  {
   "cell_type": "markdown",
   "id": "534983eb",
   "metadata": {},
   "source": [
    "Tantangan 3 - Menebak Komponen Streamlit"
   ]
  },
  {
   "cell_type": "code",
   "execution_count": null,
   "id": "c9033243",
   "metadata": {
    "vscode": {
     "languageId": "plaintext"
    }
   },
   "outputs": [],
   "source": [
    "from rggrader import submit\n",
    "\n",
    "# Deskripsi soal:\n",
    "# Streamlit memiliki berbagai komponen interaktif seperti text input, tombol, dan dropdown.\n",
    "# Pilih komponen yang paling sesuai dengan deskripsi di bawah ini.\n",
    "\n",
    "# Soal:\n",
    "# 1. Komponen apa yang digunakan untuk meminta pengguna memasukkan teks?\n",
    "# 2. Komponen apa yang digunakan untuk membuat tombol yang bisa ditekan oleh pengguna?\n",
    "# 3. Komponen apa yang digunakan untuk membuat dropdown list pilihan?\n",
    "\n",
    "# TODO: Buatlah fungsi `streamlit_component` yang menerima nomor soal sebagai input dan\n",
    "# mengembalikan nama komponen Streamlit yang sesuai (misalnya \"st.text_input\", \"st.button\", dll).\n",
    "# Lengkapi kode fungsi ini agar dapat memberikan jawaban yang benar.\n",
    "\n",
    "def streamlit_component(question_number):\n",
    "    if question_number == 1:\n",
    "      return \"st.text_input\"\n",
    "    elif question_number == 2:\n",
    "      return \"st.button\"\n",
    "    elif question_number == 3:\n",
    "      return \"st.selectbox\"\n",
    "\n",
    "    return None  # Ganti dengan hasil yang sesuai\n",
    "\n",
    "# Outputkan hasil untuk setiap soal\n",
    "print(f\"Soal 1: {streamlit_component(1)}\")\n",
    "print(f\"Soal 2: {streamlit_component(2)}\")\n",
    "print(f\"Soal 3: {streamlit_component(3)}\")\n",
    "\n",
    "# Submit Method\n",
    "assignment_id = \"03_functions-streamlit\"\n",
    "question_id = \"03-streamlit-component\"\n",
    "submit(student_id, name, assignment_id, str(streamlit_component(1)), question_id)\n"
   ]
  }
 ],
 "metadata": {
  "language_info": {
   "name": "python"
  }
 },
 "nbformat": 4,
 "nbformat_minor": 5
}
