{
 "cells": [
  {
   "cell_type": "markdown",
   "id": "a13fb33f",
   "metadata": {},
   "source": [
    "Tantangan 1 - Fun with Fruits"
   ]
  },
  {
   "cell_type": "code",
   "execution_count": null,
   "id": "9ff9a808",
   "metadata": {
    "vscode": {
     "languageId": "plaintext"
    }
   },
   "outputs": [],
   "source": [
    "# @title #### 01. Fun with Fruits\n",
    "from rggrader import submit\n",
    "\n",
    "# TODO: Create a list 'fruits' that contains \"Apple\", \"Banana\", and \"Cherry\".\n",
    "# Then remove \"Banana\" from the 'fruits' list and append \"Dragonfruit\" and \"Elderberry\".\n",
    "fruits = [\"Apple\", \"Banana\", \"Cherry\"]\n",
    "\n",
    "# Put your code here:\n",
    "fruits.remove(\"Banana\")\n",
    "fruits.append(\"Dragonfruit\")\n",
    "fruits.append(\"Elderberry\")\n",
    "\n",
    "# ---- End of your code ----\n",
    "\n",
    "print(f\"The final fruits list is {fruits}\")\n",
    "\n",
    "# Submit Method\n",
    "assignment_id = \"02_looping-collections\"\n",
    "question_id = \"01_fun_with_fruits\"\n",
    "submit(student_id, name, assignment_id, \", \".join(fruits), question_id)"
   ]
  },
  {
   "cell_type": "markdown",
   "id": "51f57196",
   "metadata": {},
   "source": [
    "Tantangan 2 - Trip to Bussels"
   ]
  },
  {
   "cell_type": "code",
   "execution_count": null,
   "id": "4772c76e",
   "metadata": {
    "vscode": {
     "languageId": "plaintext"
    }
   },
   "outputs": [],
   "source": [
    "# @title #### 02. Trip to Brussels\n",
    "from rggrader import submit\n",
    "\n",
    "# TODO: You're planning a trip to Brussels!\n",
    "#       1. Start with a list 'places_to_visit' containing: [\"Grand Place\", \"Royal Palace\", \"Atomium\"]\n",
    "#       2. Then remove \"Royal Palace\" and add both \"Manneken Pis\" and \"Mini Europe\" to the list\n",
    "#       3. Create a dictionary 'brussels_info' with the following initial information:\n",
    "#          - 'country': 'Belgium'\n",
    "#          - 'language': 'French'\n",
    "#       4. Update the 'language' value to 'French and Dutch'\n",
    "#       5. Add a new key 'population' with value 1200000\n",
    "\n",
    "\n",
    "# Put your code here:\n",
    "places_to_visit = [\"Grand Place\", \"Royal Palace\", \"Atomium\"]\n",
    "places_to_visit.remove(\"Royal Palace\")\n",
    "places_to_visit.append(\"Manneken Pis\")\n",
    "places_to_visit.append(\"Mini Europe\")\n",
    "\n",
    "brussels_info = {\"country\": \"Belgium\", \"language\": \"French\"}\n",
    "brussels_info[\"language\"] = \"French and Dutch\"\n",
    "brussels_info[\"population\"] = 1200000\n",
    "\n",
    "# ---- End of your code ----\n",
    "\n",
    "print(f\"Places to visit in Brussels: {places_to_visit}\")\n",
    "print(f\"Information about Brussels: {brussels_info}\")\n",
    "\n",
    "# Submit Method\n",
    "assignment_id = \"02_looping-collections\"\n",
    "question_id = \"02_trip_to_brussels\"\n",
    "submit(student_id, name, assignment_id, str(places_to_visit) + \" | \" + str(brussels_info), question_id)\n",
    "\n",
    "# Expected Output:\n",
    "# Places to visit in Brussels: ['Grand Place', 'Atomium', 'Manneken Pis', 'Mini Europe']\n",
    "# Information about Brussels: {'country': 'Belgium', 'language': 'French and Dutch', 'population': 1200000}"
   ]
  },
  {
   "cell_type": "markdown",
   "id": "c61df3d3",
   "metadata": {},
   "source": [
    "Tantangan 3 - Birthday Party"
   ]
  },
  {
   "cell_type": "code",
   "execution_count": null,
   "id": "4542ce03",
   "metadata": {
    "vscode": {
     "languageId": "plaintext"
    }
   },
   "outputs": [],
   "source": [
    "# @title #### 03. Birthday Party\n",
    "from rggrader import submit\n",
    "\n",
    "# TODO: You're throwing a birthday party! Create a dictionary 'ages' that contains key-value pairs of your friends' names\n",
    "#       and their ages: \"Alice\": 25, \"Bob\": 30, \"Charlie\": 35.\n",
    "# Alice just had her birthday! So, change the age of \"Alice\" to 26. Then, add your friend \"David\" who is 40 to the party.\n",
    "\n",
    "\n",
    "# Put your code here:\n",
    "ages = {\"Alice\": 25, \"Bob\": 30, \"Charlie\": 35}\n",
    "ages[\"Alice\"] = 26\n",
    "ages[\"David\"] = 40\n",
    "# ---- End of your code ----\n",
    "\n",
    "print(f\"The final ages dictionary is {ages}\")\n",
    "\n",
    "# Submit Method\n",
    "assignment_id = \"02_looping-collections\"\n",
    "question_id = \"03_birthday_party\"\n",
    "submit(student_id, name, assignment_id, str(ages), question_id)\n",
    "\n",
    "# Example:\n",
    "# Dictionary: {\"John\": 28, \"Linda\": 25, \"Peter\": 30}\n",
    "# Change Age: John turns 29\n",
    "# Add New Friend: {\"Mary\": 32}\n",
    "# Output: {\"John\": 29, \"Linda\": 25, \"Peter\": 30, \"Mary\": 32}"
   ]
  }
 ],
 "metadata": {
  "language_info": {
   "name": "python"
  }
 },
 "nbformat": 4,
 "nbformat_minor": 5
}
